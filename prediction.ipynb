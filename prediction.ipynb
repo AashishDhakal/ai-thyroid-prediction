{
 "cells": [
  {
   "cell_type": "code",
   "execution_count": 1,
   "metadata": {},
   "outputs": [],
   "source": [
    "import numpy as np\n",
    "import pandas as pd \n",
    "from sklearn.model_selection import train_test_split\n",
    "from sklearn.metrics import confusion_matrix\n",
    "from  xgboost import XGBClassifier\n",
    "from sklearn.neural_network import MLPClassifier\n",
    "from sklearn import metrics\n",
    "from catboost import CatBoostClassifier\n",
    "from sklearn.tree import DecisionTreeClassifier \n",
    "from sklearn.neighbors import KNeighborsClassifier\n",
    "from sklearn.ensemble import RandomForestClassifier\n",
    "from sklearn.ensemble import ExtraTreesClassifier"
   ]
  },
  {
   "cell_type": "code",
   "execution_count": 24,
   "metadata": {},
   "outputs": [],
   "source": [
    "all_dataset = pd.read_csv(\"revised_dataset.csv\")"
   ]
  },
  {
   "cell_type": "code",
   "execution_count": 26,
   "metadata": {
    "scrolled": true
   },
   "outputs": [
    {
     "data": {
      "text/html": [
       "<div>\n",
       "<style scoped>\n",
       "    .dataframe tbody tr th:only-of-type {\n",
       "        vertical-align: middle;\n",
       "    }\n",
       "\n",
       "    .dataframe tbody tr th {\n",
       "        vertical-align: top;\n",
       "    }\n",
       "\n",
       "    .dataframe thead th {\n",
       "        text-align: right;\n",
       "    }\n",
       "</style>\n",
       "<table border=\"1\" class=\"dataframe\">\n",
       "  <thead>\n",
       "    <tr style=\"text-align: right;\">\n",
       "      <th></th>\n",
       "      <th>age</th>\n",
       "      <th>gender</th>\n",
       "      <th>pregnant</th>\n",
       "      <th>tsh_level</th>\n",
       "      <th>t3</th>\n",
       "      <th>tt4</th>\n",
       "      <th>t4u</th>\n",
       "      <th>fti</th>\n",
       "      <th>diagnosis</th>\n",
       "    </tr>\n",
       "  </thead>\n",
       "  <tbody>\n",
       "    <tr>\n",
       "      <th>0</th>\n",
       "      <td>41</td>\n",
       "      <td>F</td>\n",
       "      <td>False</td>\n",
       "      <td>none</td>\n",
       "      <td>none</td>\n",
       "      <td>none</td>\n",
       "      <td>none</td>\n",
       "      <td>none</td>\n",
       "      <td>none</td>\n",
       "    </tr>\n",
       "    <tr>\n",
       "      <th>1</th>\n",
       "      <td>36</td>\n",
       "      <td>F</td>\n",
       "      <td>False</td>\n",
       "      <td>none</td>\n",
       "      <td>none</td>\n",
       "      <td>none</td>\n",
       "      <td>none</td>\n",
       "      <td>none</td>\n",
       "      <td>none</td>\n",
       "    </tr>\n",
       "    <tr>\n",
       "      <th>2</th>\n",
       "      <td>32</td>\n",
       "      <td>F</td>\n",
       "      <td>False</td>\n",
       "      <td>none</td>\n",
       "      <td>none</td>\n",
       "      <td>none</td>\n",
       "      <td>none</td>\n",
       "      <td>none</td>\n",
       "      <td>none</td>\n",
       "    </tr>\n",
       "    <tr>\n",
       "      <th>3</th>\n",
       "      <td>60</td>\n",
       "      <td>F</td>\n",
       "      <td>False</td>\n",
       "      <td>none</td>\n",
       "      <td>none</td>\n",
       "      <td>none</td>\n",
       "      <td>none</td>\n",
       "      <td>none</td>\n",
       "      <td>none</td>\n",
       "    </tr>\n",
       "    <tr>\n",
       "      <th>4</th>\n",
       "      <td>77</td>\n",
       "      <td>F</td>\n",
       "      <td>False</td>\n",
       "      <td>none</td>\n",
       "      <td>none</td>\n",
       "      <td>none</td>\n",
       "      <td>none</td>\n",
       "      <td>none</td>\n",
       "      <td>none</td>\n",
       "    </tr>\n",
       "    <tr>\n",
       "      <th>...</th>\n",
       "      <td>...</td>\n",
       "      <td>...</td>\n",
       "      <td>...</td>\n",
       "      <td>...</td>\n",
       "      <td>...</td>\n",
       "      <td>...</td>\n",
       "      <td>...</td>\n",
       "      <td>...</td>\n",
       "      <td>...</td>\n",
       "    </tr>\n",
       "    <tr>\n",
       "      <th>9106</th>\n",
       "      <td>43</td>\n",
       "      <td>M</td>\n",
       "      <td>False</td>\n",
       "      <td>0.005</td>\n",
       "      <td>3</td>\n",
       "      <td>130</td>\n",
       "      <td>0.84</td>\n",
       "      <td>155</td>\n",
       "      <td>hyperthyroid</td>\n",
       "    </tr>\n",
       "    <tr>\n",
       "      <th>9107</th>\n",
       "      <td>60</td>\n",
       "      <td>M</td>\n",
       "      <td>False</td>\n",
       "      <td>0.005</td>\n",
       "      <td>none</td>\n",
       "      <td>155</td>\n",
       "      <td>0.78</td>\n",
       "      <td>199</td>\n",
       "      <td>none</td>\n",
       "    </tr>\n",
       "    <tr>\n",
       "      <th>9108</th>\n",
       "      <td>42</td>\n",
       "      <td>F</td>\n",
       "      <td>False</td>\n",
       "      <td>0.005</td>\n",
       "      <td>none</td>\n",
       "      <td>178</td>\n",
       "      <td>0.71</td>\n",
       "      <td>251</td>\n",
       "      <td>hyperthyroid</td>\n",
       "    </tr>\n",
       "    <tr>\n",
       "      <th>9109</th>\n",
       "      <td>63</td>\n",
       "      <td>M</td>\n",
       "      <td>False</td>\n",
       "      <td>0.005</td>\n",
       "      <td>1.3</td>\n",
       "      <td>96</td>\n",
       "      <td>0.92</td>\n",
       "      <td>104</td>\n",
       "      <td>none</td>\n",
       "    </tr>\n",
       "    <tr>\n",
       "      <th>9110</th>\n",
       "      <td>60</td>\n",
       "      <td>F</td>\n",
       "      <td>False</td>\n",
       "      <td>0.005</td>\n",
       "      <td>1.7</td>\n",
       "      <td>158</td>\n",
       "      <td>1.04</td>\n",
       "      <td>152</td>\n",
       "      <td>none</td>\n",
       "    </tr>\n",
       "  </tbody>\n",
       "</table>\n",
       "<p>9111 rows × 9 columns</p>\n",
       "</div>"
      ],
      "text/plain": [
       "      age gender pregnant tsh_level    t3   tt4   t4u   fti     diagnosis\n",
       "0      41      F    False      none  none  none  none  none          none\n",
       "1      36      F    False      none  none  none  none  none          none\n",
       "2      32      F    False      none  none  none  none  none          none\n",
       "3      60      F    False      none  none  none  none  none          none\n",
       "4      77      F    False      none  none  none  none  none          none\n",
       "...   ...    ...      ...       ...   ...   ...   ...   ...           ...\n",
       "9106   43      M    False     0.005     3   130  0.84   155  hyperthyroid\n",
       "9107   60      M    False     0.005  none   155  0.78   199          none\n",
       "9108   42      F    False     0.005  none   178  0.71   251  hyperthyroid\n",
       "9109   63      M    False     0.005   1.3    96  0.92   104          none\n",
       "9110   60      F    False     0.005   1.7   158  1.04   152          none\n",
       "\n",
       "[9111 rows x 9 columns]"
      ]
     },
     "execution_count": 26,
     "metadata": {},
     "output_type": "execute_result"
    }
   ],
   "source": [
    "all_dataset"
   ]
  },
  {
   "cell_type": "code",
   "execution_count": 27,
   "metadata": {},
   "outputs": [],
   "source": [
    "all_dataset['gender'] = all_dataset['gender'].map({'F': 1, 'M': 0})"
   ]
  },
  {
   "cell_type": "code",
   "execution_count": 28,
   "metadata": {},
   "outputs": [],
   "source": [
    "for value in set(all_dataset['diagnosis']):\n",
    "    if(value != 'hypothyroid' and value != 'hyperthyroid'):\n",
    "        all_dataset['diagnosis'].replace(value,'negative',inplace=True)"
   ]
  },
  {
   "cell_type": "code",
   "execution_count": 29,
   "metadata": {},
   "outputs": [
    {
     "data": {
      "text/html": [
       "<div>\n",
       "<style scoped>\n",
       "    .dataframe tbody tr th:only-of-type {\n",
       "        vertical-align: middle;\n",
       "    }\n",
       "\n",
       "    .dataframe tbody tr th {\n",
       "        vertical-align: top;\n",
       "    }\n",
       "\n",
       "    .dataframe thead th {\n",
       "        text-align: right;\n",
       "    }\n",
       "</style>\n",
       "<table border=\"1\" class=\"dataframe\">\n",
       "  <thead>\n",
       "    <tr style=\"text-align: right;\">\n",
       "      <th></th>\n",
       "      <th>age</th>\n",
       "      <th>gender</th>\n",
       "      <th>pregnant</th>\n",
       "      <th>tsh_level</th>\n",
       "      <th>t3</th>\n",
       "      <th>tt4</th>\n",
       "      <th>t4u</th>\n",
       "      <th>fti</th>\n",
       "      <th>diagnosis</th>\n",
       "    </tr>\n",
       "  </thead>\n",
       "  <tbody>\n",
       "    <tr>\n",
       "      <th>0</th>\n",
       "      <td>41</td>\n",
       "      <td>1.0</td>\n",
       "      <td>False</td>\n",
       "      <td>none</td>\n",
       "      <td>none</td>\n",
       "      <td>none</td>\n",
       "      <td>none</td>\n",
       "      <td>none</td>\n",
       "      <td>negative</td>\n",
       "    </tr>\n",
       "    <tr>\n",
       "      <th>1</th>\n",
       "      <td>36</td>\n",
       "      <td>1.0</td>\n",
       "      <td>False</td>\n",
       "      <td>none</td>\n",
       "      <td>none</td>\n",
       "      <td>none</td>\n",
       "      <td>none</td>\n",
       "      <td>none</td>\n",
       "      <td>negative</td>\n",
       "    </tr>\n",
       "    <tr>\n",
       "      <th>2</th>\n",
       "      <td>32</td>\n",
       "      <td>1.0</td>\n",
       "      <td>False</td>\n",
       "      <td>none</td>\n",
       "      <td>none</td>\n",
       "      <td>none</td>\n",
       "      <td>none</td>\n",
       "      <td>none</td>\n",
       "      <td>negative</td>\n",
       "    </tr>\n",
       "    <tr>\n",
       "      <th>3</th>\n",
       "      <td>60</td>\n",
       "      <td>1.0</td>\n",
       "      <td>False</td>\n",
       "      <td>none</td>\n",
       "      <td>none</td>\n",
       "      <td>none</td>\n",
       "      <td>none</td>\n",
       "      <td>none</td>\n",
       "      <td>negative</td>\n",
       "    </tr>\n",
       "    <tr>\n",
       "      <th>4</th>\n",
       "      <td>77</td>\n",
       "      <td>1.0</td>\n",
       "      <td>False</td>\n",
       "      <td>none</td>\n",
       "      <td>none</td>\n",
       "      <td>none</td>\n",
       "      <td>none</td>\n",
       "      <td>none</td>\n",
       "      <td>negative</td>\n",
       "    </tr>\n",
       "    <tr>\n",
       "      <th>...</th>\n",
       "      <td>...</td>\n",
       "      <td>...</td>\n",
       "      <td>...</td>\n",
       "      <td>...</td>\n",
       "      <td>...</td>\n",
       "      <td>...</td>\n",
       "      <td>...</td>\n",
       "      <td>...</td>\n",
       "      <td>...</td>\n",
       "    </tr>\n",
       "    <tr>\n",
       "      <th>9106</th>\n",
       "      <td>43</td>\n",
       "      <td>0.0</td>\n",
       "      <td>False</td>\n",
       "      <td>0.005</td>\n",
       "      <td>3</td>\n",
       "      <td>130</td>\n",
       "      <td>0.84</td>\n",
       "      <td>155</td>\n",
       "      <td>hyperthyroid</td>\n",
       "    </tr>\n",
       "    <tr>\n",
       "      <th>9107</th>\n",
       "      <td>60</td>\n",
       "      <td>0.0</td>\n",
       "      <td>False</td>\n",
       "      <td>0.005</td>\n",
       "      <td>none</td>\n",
       "      <td>155</td>\n",
       "      <td>0.78</td>\n",
       "      <td>199</td>\n",
       "      <td>negative</td>\n",
       "    </tr>\n",
       "    <tr>\n",
       "      <th>9108</th>\n",
       "      <td>42</td>\n",
       "      <td>1.0</td>\n",
       "      <td>False</td>\n",
       "      <td>0.005</td>\n",
       "      <td>none</td>\n",
       "      <td>178</td>\n",
       "      <td>0.71</td>\n",
       "      <td>251</td>\n",
       "      <td>hyperthyroid</td>\n",
       "    </tr>\n",
       "    <tr>\n",
       "      <th>9109</th>\n",
       "      <td>63</td>\n",
       "      <td>0.0</td>\n",
       "      <td>False</td>\n",
       "      <td>0.005</td>\n",
       "      <td>1.3</td>\n",
       "      <td>96</td>\n",
       "      <td>0.92</td>\n",
       "      <td>104</td>\n",
       "      <td>negative</td>\n",
       "    </tr>\n",
       "    <tr>\n",
       "      <th>9110</th>\n",
       "      <td>60</td>\n",
       "      <td>1.0</td>\n",
       "      <td>False</td>\n",
       "      <td>0.005</td>\n",
       "      <td>1.7</td>\n",
       "      <td>158</td>\n",
       "      <td>1.04</td>\n",
       "      <td>152</td>\n",
       "      <td>negative</td>\n",
       "    </tr>\n",
       "  </tbody>\n",
       "</table>\n",
       "<p>9111 rows × 9 columns</p>\n",
       "</div>"
      ],
      "text/plain": [
       "      age  gender pregnant tsh_level    t3   tt4   t4u   fti     diagnosis\n",
       "0      41     1.0    False      none  none  none  none  none      negative\n",
       "1      36     1.0    False      none  none  none  none  none      negative\n",
       "2      32     1.0    False      none  none  none  none  none      negative\n",
       "3      60     1.0    False      none  none  none  none  none      negative\n",
       "4      77     1.0    False      none  none  none  none  none      negative\n",
       "...   ...     ...      ...       ...   ...   ...   ...   ...           ...\n",
       "9106   43     0.0    False     0.005     3   130  0.84   155  hyperthyroid\n",
       "9107   60     0.0    False     0.005  none   155  0.78   199      negative\n",
       "9108   42     1.0    False     0.005  none   178  0.71   251  hyperthyroid\n",
       "9109   63     0.0    False     0.005   1.3    96  0.92   104      negative\n",
       "9110   60     1.0    False     0.005   1.7   158  1.04   152      negative\n",
       "\n",
       "[9111 rows x 9 columns]"
      ]
     },
     "execution_count": 29,
     "metadata": {},
     "output_type": "execute_result"
    }
   ],
   "source": [
    "all_dataset"
   ]
  },
  {
   "cell_type": "code",
   "execution_count": 30,
   "metadata": {},
   "outputs": [
    {
     "data": {
      "text/plain": [
       "age            int64\n",
       "gender       float64\n",
       "pregnant      object\n",
       "tsh_level     object\n",
       "t3            object\n",
       "tt4           object\n",
       "t4u           object\n",
       "fti           object\n",
       "diagnosis      int64\n",
       "dtype: object"
      ]
     },
     "metadata": {},
     "output_type": "display_data"
    }
   ],
   "source": [
    "all_dataset = all_dataset.replace({\"t\":1,\"f\":0, \"y\":1, \"n\":0, \"hypothyroid\":1, \"negative\":0,\"hyperthyroid\":2, \"F\":1, \"M\":0})\n"
   ]
  },
  {
   "cell_type": "code",
   "execution_count": 31,
   "metadata": {
    "scrolled": true
   },
   "outputs": [
    {
     "data": {
      "text/plain": [
       "age            int64\n",
       "gender       float64\n",
       "pregnant     float64\n",
       "tsh_level     object\n",
       "t3            object\n",
       "tt4           object\n",
       "t4u           object\n",
       "fti           object\n",
       "diagnosis      int64\n",
       "dtype: object"
      ]
     },
     "metadata": {},
     "output_type": "display_data"
    }
   ],
   "source": [
    "all_dataset = all_dataset.replace({True:1,False:0, \"y\":1, \"n\":0, \"hypothyroid\":1, \"negative\":0,\"hyperthyroid\":2, \"F\":1, \"M\":0})\n",
    "display(all_dataset.dtypes)"
   ]
  },
  {
   "cell_type": "code",
   "execution_count": 32,
   "metadata": {},
   "outputs": [
    {
     "data": {
      "text/html": [
       "<div>\n",
       "<style scoped>\n",
       "    .dataframe tbody tr th:only-of-type {\n",
       "        vertical-align: middle;\n",
       "    }\n",
       "\n",
       "    .dataframe tbody tr th {\n",
       "        vertical-align: top;\n",
       "    }\n",
       "\n",
       "    .dataframe thead th {\n",
       "        text-align: right;\n",
       "    }\n",
       "</style>\n",
       "<table border=\"1\" class=\"dataframe\">\n",
       "  <thead>\n",
       "    <tr style=\"text-align: right;\">\n",
       "      <th></th>\n",
       "      <th>age</th>\n",
       "      <th>gender</th>\n",
       "      <th>pregnant</th>\n",
       "      <th>tsh_level</th>\n",
       "      <th>t3</th>\n",
       "      <th>tt4</th>\n",
       "      <th>t4u</th>\n",
       "      <th>fti</th>\n",
       "      <th>diagnosis</th>\n",
       "    </tr>\n",
       "  </thead>\n",
       "  <tbody>\n",
       "    <tr>\n",
       "      <th>0</th>\n",
       "      <td>41</td>\n",
       "      <td>1.0</td>\n",
       "      <td>0.0</td>\n",
       "      <td>none</td>\n",
       "      <td>none</td>\n",
       "      <td>none</td>\n",
       "      <td>none</td>\n",
       "      <td>none</td>\n",
       "      <td>0</td>\n",
       "    </tr>\n",
       "    <tr>\n",
       "      <th>1</th>\n",
       "      <td>36</td>\n",
       "      <td>1.0</td>\n",
       "      <td>0.0</td>\n",
       "      <td>none</td>\n",
       "      <td>none</td>\n",
       "      <td>none</td>\n",
       "      <td>none</td>\n",
       "      <td>none</td>\n",
       "      <td>0</td>\n",
       "    </tr>\n",
       "    <tr>\n",
       "      <th>2</th>\n",
       "      <td>32</td>\n",
       "      <td>1.0</td>\n",
       "      <td>0.0</td>\n",
       "      <td>none</td>\n",
       "      <td>none</td>\n",
       "      <td>none</td>\n",
       "      <td>none</td>\n",
       "      <td>none</td>\n",
       "      <td>0</td>\n",
       "    </tr>\n",
       "    <tr>\n",
       "      <th>3</th>\n",
       "      <td>60</td>\n",
       "      <td>1.0</td>\n",
       "      <td>0.0</td>\n",
       "      <td>none</td>\n",
       "      <td>none</td>\n",
       "      <td>none</td>\n",
       "      <td>none</td>\n",
       "      <td>none</td>\n",
       "      <td>0</td>\n",
       "    </tr>\n",
       "    <tr>\n",
       "      <th>4</th>\n",
       "      <td>77</td>\n",
       "      <td>1.0</td>\n",
       "      <td>0.0</td>\n",
       "      <td>none</td>\n",
       "      <td>none</td>\n",
       "      <td>none</td>\n",
       "      <td>none</td>\n",
       "      <td>none</td>\n",
       "      <td>0</td>\n",
       "    </tr>\n",
       "    <tr>\n",
       "      <th>...</th>\n",
       "      <td>...</td>\n",
       "      <td>...</td>\n",
       "      <td>...</td>\n",
       "      <td>...</td>\n",
       "      <td>...</td>\n",
       "      <td>...</td>\n",
       "      <td>...</td>\n",
       "      <td>...</td>\n",
       "      <td>...</td>\n",
       "    </tr>\n",
       "    <tr>\n",
       "      <th>9106</th>\n",
       "      <td>43</td>\n",
       "      <td>0.0</td>\n",
       "      <td>0.0</td>\n",
       "      <td>0.005</td>\n",
       "      <td>3</td>\n",
       "      <td>130</td>\n",
       "      <td>0.84</td>\n",
       "      <td>155</td>\n",
       "      <td>2</td>\n",
       "    </tr>\n",
       "    <tr>\n",
       "      <th>9107</th>\n",
       "      <td>60</td>\n",
       "      <td>0.0</td>\n",
       "      <td>0.0</td>\n",
       "      <td>0.005</td>\n",
       "      <td>none</td>\n",
       "      <td>155</td>\n",
       "      <td>0.78</td>\n",
       "      <td>199</td>\n",
       "      <td>0</td>\n",
       "    </tr>\n",
       "    <tr>\n",
       "      <th>9108</th>\n",
       "      <td>42</td>\n",
       "      <td>1.0</td>\n",
       "      <td>0.0</td>\n",
       "      <td>0.005</td>\n",
       "      <td>none</td>\n",
       "      <td>178</td>\n",
       "      <td>0.71</td>\n",
       "      <td>251</td>\n",
       "      <td>2</td>\n",
       "    </tr>\n",
       "    <tr>\n",
       "      <th>9109</th>\n",
       "      <td>63</td>\n",
       "      <td>0.0</td>\n",
       "      <td>0.0</td>\n",
       "      <td>0.005</td>\n",
       "      <td>1.3</td>\n",
       "      <td>96</td>\n",
       "      <td>0.92</td>\n",
       "      <td>104</td>\n",
       "      <td>0</td>\n",
       "    </tr>\n",
       "    <tr>\n",
       "      <th>9110</th>\n",
       "      <td>60</td>\n",
       "      <td>1.0</td>\n",
       "      <td>0.0</td>\n",
       "      <td>0.005</td>\n",
       "      <td>1.7</td>\n",
       "      <td>158</td>\n",
       "      <td>1.04</td>\n",
       "      <td>152</td>\n",
       "      <td>0</td>\n",
       "    </tr>\n",
       "  </tbody>\n",
       "</table>\n",
       "<p>9111 rows × 9 columns</p>\n",
       "</div>"
      ],
      "text/plain": [
       "      age  gender  pregnant tsh_level    t3   tt4   t4u   fti  diagnosis\n",
       "0      41     1.0       0.0      none  none  none  none  none          0\n",
       "1      36     1.0       0.0      none  none  none  none  none          0\n",
       "2      32     1.0       0.0      none  none  none  none  none          0\n",
       "3      60     1.0       0.0      none  none  none  none  none          0\n",
       "4      77     1.0       0.0      none  none  none  none  none          0\n",
       "...   ...     ...       ...       ...   ...   ...   ...   ...        ...\n",
       "9106   43     0.0       0.0     0.005     3   130  0.84   155          2\n",
       "9107   60     0.0       0.0     0.005  none   155  0.78   199          0\n",
       "9108   42     1.0       0.0     0.005  none   178  0.71   251          2\n",
       "9109   63     0.0       0.0     0.005   1.3    96  0.92   104          0\n",
       "9110   60     1.0       0.0     0.005   1.7   158  1.04   152          0\n",
       "\n",
       "[9111 rows x 9 columns]"
      ]
     },
     "execution_count": 32,
     "metadata": {},
     "output_type": "execute_result"
    }
   ],
   "source": [
    "all_dataset"
   ]
  },
  {
   "cell_type": "code",
   "execution_count": 47,
   "metadata": {
    "scrolled": false
   },
   "outputs": [],
   "source": [
    "all_dataset = all_dataset.replace({True:1,False:0, \"y\":1, \"n\":0, \"hypothyroid\":1, \"negative\":0,\"hyperthyroid\":2, \"F\":1, \"M\":0})\n",
    "all_dataset=all_dataset.replace({\"none\":np.NAN})"
   ]
  },
  {
   "cell_type": "code",
   "execution_count": 34,
   "metadata": {},
   "outputs": [
    {
     "data": {
      "text/plain": [
       "age             0\n",
       "gender        305\n",
       "pregnant      305\n",
       "tsh_level     842\n",
       "t3           2588\n",
       "tt4           440\n",
       "t4u           806\n",
       "fti           799\n",
       "diagnosis       0\n",
       "dtype: int64"
      ]
     },
     "execution_count": 34,
     "metadata": {},
     "output_type": "execute_result"
    }
   ],
   "source": [
    "all_dataset.isna().sum()"
   ]
  },
  {
   "cell_type": "code",
   "execution_count": 35,
   "metadata": {},
   "outputs": [
    {
     "data": {
      "text/html": [
       "<div>\n",
       "<style scoped>\n",
       "    .dataframe tbody tr th:only-of-type {\n",
       "        vertical-align: middle;\n",
       "    }\n",
       "\n",
       "    .dataframe tbody tr th {\n",
       "        vertical-align: top;\n",
       "    }\n",
       "\n",
       "    .dataframe thead th {\n",
       "        text-align: right;\n",
       "    }\n",
       "</style>\n",
       "<table border=\"1\" class=\"dataframe\">\n",
       "  <thead>\n",
       "    <tr style=\"text-align: right;\">\n",
       "      <th></th>\n",
       "      <th>age</th>\n",
       "      <th>gender</th>\n",
       "      <th>pregnant</th>\n",
       "      <th>tsh_level</th>\n",
       "      <th>t3</th>\n",
       "      <th>tt4</th>\n",
       "      <th>t4u</th>\n",
       "      <th>fti</th>\n",
       "      <th>diagnosis</th>\n",
       "    </tr>\n",
       "  </thead>\n",
       "  <tbody>\n",
       "    <tr>\n",
       "      <th>0</th>\n",
       "      <td>41</td>\n",
       "      <td>1.0</td>\n",
       "      <td>0.0</td>\n",
       "      <td>NaN</td>\n",
       "      <td>NaN</td>\n",
       "      <td>NaN</td>\n",
       "      <td>NaN</td>\n",
       "      <td>NaN</td>\n",
       "      <td>0</td>\n",
       "    </tr>\n",
       "    <tr>\n",
       "      <th>1</th>\n",
       "      <td>36</td>\n",
       "      <td>1.0</td>\n",
       "      <td>0.0</td>\n",
       "      <td>NaN</td>\n",
       "      <td>NaN</td>\n",
       "      <td>NaN</td>\n",
       "      <td>NaN</td>\n",
       "      <td>NaN</td>\n",
       "      <td>0</td>\n",
       "    </tr>\n",
       "    <tr>\n",
       "      <th>2</th>\n",
       "      <td>32</td>\n",
       "      <td>1.0</td>\n",
       "      <td>0.0</td>\n",
       "      <td>NaN</td>\n",
       "      <td>NaN</td>\n",
       "      <td>NaN</td>\n",
       "      <td>NaN</td>\n",
       "      <td>NaN</td>\n",
       "      <td>0</td>\n",
       "    </tr>\n",
       "    <tr>\n",
       "      <th>3</th>\n",
       "      <td>60</td>\n",
       "      <td>1.0</td>\n",
       "      <td>0.0</td>\n",
       "      <td>NaN</td>\n",
       "      <td>NaN</td>\n",
       "      <td>NaN</td>\n",
       "      <td>NaN</td>\n",
       "      <td>NaN</td>\n",
       "      <td>0</td>\n",
       "    </tr>\n",
       "    <tr>\n",
       "      <th>4</th>\n",
       "      <td>77</td>\n",
       "      <td>1.0</td>\n",
       "      <td>0.0</td>\n",
       "      <td>NaN</td>\n",
       "      <td>NaN</td>\n",
       "      <td>NaN</td>\n",
       "      <td>NaN</td>\n",
       "      <td>NaN</td>\n",
       "      <td>0</td>\n",
       "    </tr>\n",
       "    <tr>\n",
       "      <th>...</th>\n",
       "      <td>...</td>\n",
       "      <td>...</td>\n",
       "      <td>...</td>\n",
       "      <td>...</td>\n",
       "      <td>...</td>\n",
       "      <td>...</td>\n",
       "      <td>...</td>\n",
       "      <td>...</td>\n",
       "      <td>...</td>\n",
       "    </tr>\n",
       "    <tr>\n",
       "      <th>9106</th>\n",
       "      <td>43</td>\n",
       "      <td>0.0</td>\n",
       "      <td>0.0</td>\n",
       "      <td>0.005</td>\n",
       "      <td>3</td>\n",
       "      <td>130</td>\n",
       "      <td>0.84</td>\n",
       "      <td>155</td>\n",
       "      <td>2</td>\n",
       "    </tr>\n",
       "    <tr>\n",
       "      <th>9107</th>\n",
       "      <td>60</td>\n",
       "      <td>0.0</td>\n",
       "      <td>0.0</td>\n",
       "      <td>0.005</td>\n",
       "      <td>NaN</td>\n",
       "      <td>155</td>\n",
       "      <td>0.78</td>\n",
       "      <td>199</td>\n",
       "      <td>0</td>\n",
       "    </tr>\n",
       "    <tr>\n",
       "      <th>9108</th>\n",
       "      <td>42</td>\n",
       "      <td>1.0</td>\n",
       "      <td>0.0</td>\n",
       "      <td>0.005</td>\n",
       "      <td>NaN</td>\n",
       "      <td>178</td>\n",
       "      <td>0.71</td>\n",
       "      <td>251</td>\n",
       "      <td>2</td>\n",
       "    </tr>\n",
       "    <tr>\n",
       "      <th>9109</th>\n",
       "      <td>63</td>\n",
       "      <td>0.0</td>\n",
       "      <td>0.0</td>\n",
       "      <td>0.005</td>\n",
       "      <td>1.3</td>\n",
       "      <td>96</td>\n",
       "      <td>0.92</td>\n",
       "      <td>104</td>\n",
       "      <td>0</td>\n",
       "    </tr>\n",
       "    <tr>\n",
       "      <th>9110</th>\n",
       "      <td>60</td>\n",
       "      <td>1.0</td>\n",
       "      <td>0.0</td>\n",
       "      <td>0.005</td>\n",
       "      <td>1.7</td>\n",
       "      <td>158</td>\n",
       "      <td>1.04</td>\n",
       "      <td>152</td>\n",
       "      <td>0</td>\n",
       "    </tr>\n",
       "  </tbody>\n",
       "</table>\n",
       "<p>9111 rows × 9 columns</p>\n",
       "</div>"
      ],
      "text/plain": [
       "      age  gender  pregnant tsh_level   t3  tt4   t4u  fti  diagnosis\n",
       "0      41     1.0       0.0       NaN  NaN  NaN   NaN  NaN          0\n",
       "1      36     1.0       0.0       NaN  NaN  NaN   NaN  NaN          0\n",
       "2      32     1.0       0.0       NaN  NaN  NaN   NaN  NaN          0\n",
       "3      60     1.0       0.0       NaN  NaN  NaN   NaN  NaN          0\n",
       "4      77     1.0       0.0       NaN  NaN  NaN   NaN  NaN          0\n",
       "...   ...     ...       ...       ...  ...  ...   ...  ...        ...\n",
       "9106   43     0.0       0.0     0.005    3  130  0.84  155          2\n",
       "9107   60     0.0       0.0     0.005  NaN  155  0.78  199          0\n",
       "9108   42     1.0       0.0     0.005  NaN  178  0.71  251          2\n",
       "9109   63     0.0       0.0     0.005  1.3   96  0.92  104          0\n",
       "9110   60     1.0       0.0     0.005  1.7  158  1.04  152          0\n",
       "\n",
       "[9111 rows x 9 columns]"
      ]
     },
     "execution_count": 35,
     "metadata": {},
     "output_type": "execute_result"
    }
   ],
   "source": [
    "all_dataset"
   ]
  },
  {
   "cell_type": "code",
   "execution_count": 36,
   "metadata": {},
   "outputs": [
    {
     "data": {
      "text/plain": [
       "age            int64\n",
       "gender       float64\n",
       "pregnant     float64\n",
       "tsh_level    float64\n",
       "t3           float64\n",
       "tt4          float64\n",
       "t4u          float64\n",
       "fti          float64\n",
       "diagnosis      int64\n",
       "dtype: object"
      ]
     },
     "metadata": {},
     "output_type": "display_data"
    }
   ],
   "source": [
    "cols = all_dataset.columns[all_dataset.dtypes.eq('object')]\n",
    "all_dataset[cols] = all_dataset[cols].apply(pd.to_numeric, errors='coerce')\n",
    "display(all_dataset.dtypes)"
   ]
  },
  {
   "cell_type": "code",
   "execution_count": 37,
   "metadata": {},
   "outputs": [
    {
     "data": {
      "text/plain": [
       "age             0\n",
       "gender        305\n",
       "pregnant      305\n",
       "tsh_level     842\n",
       "t3           2588\n",
       "tt4           440\n",
       "t4u           806\n",
       "fti           799\n",
       "diagnosis       0\n",
       "dtype: int64"
      ]
     },
     "execution_count": 37,
     "metadata": {},
     "output_type": "execute_result"
    }
   ],
   "source": [
    "all_dataset.isna().sum()"
   ]
  },
  {
   "cell_type": "code",
   "execution_count": 38,
   "metadata": {},
   "outputs": [
    {
     "data": {
      "text/plain": [
       "gender       0.064354\n",
       "tsh_level    0.339085\n",
       "t3           0.241793\n",
       "tt4          0.132977\n",
       "fti          0.184833\n",
       "Name: diagnosis, dtype: float64"
      ]
     },
     "metadata": {},
     "output_type": "display_data"
    },
    {
     "data": {
      "text/plain": [
       "Index(['gender', 'tsh_level', 't3', 'tt4', 'fti'], dtype='object')"
      ]
     },
     "metadata": {},
     "output_type": "display_data"
    }
   ],
   "source": [
    "corr_values = abs(all_dataset[all_dataset.columns[0:]].corr()['diagnosis'][:])\n",
    "corr_values = corr_values.drop('diagnosis')\n",
    "corr_values = corr_values[corr_values > 0.04]\n",
    "display(corr_values)\n",
    "display(corr_values.index)"
   ]
  },
  {
   "cell_type": "code",
   "execution_count": 39,
   "metadata": {},
   "outputs": [],
   "source": [
    "def holdout(dataframe):\n",
    "  x = dataframe[corr_values.index]\n",
    "  y = dataframe['diagnosis']\n",
    "  X_train, X_test, y_train, y_test = train_test_split(x, y, test_size=0.30, random_state=42) \n",
    "  return X_train, X_test, y_train, y_test\n",
    "\n",
    "X_train, X_test, y_train, y_test = holdout(all_dataset)"
   ]
  },
  {
   "cell_type": "code",
   "execution_count": 40,
   "metadata": {},
   "outputs": [],
   "source": [
    "classifiers = {\n",
    "    \"XGBClassifier\" : XGBClassifier(learning_rate=0.01),\n",
    "    \"CatBoostClassifier\" : CatBoostClassifier(max_depth=4,verbose=0),\n",
    "}"
   ]
  },
  {
   "cell_type": "code",
   "execution_count": 41,
   "metadata": {},
   "outputs": [
    {
     "name": "stderr",
     "output_type": "stream",
     "text": [
      "C:\\Users\\Asus\\Anaconda3\\envs\\py3.7-TF2.0\\lib\\site-packages\\xgboost\\sklearn.py:1146: UserWarning: The use of label encoder in XGBClassifier is deprecated and will be removed in a future release. To remove this warning, do the following: 1) Pass option use_label_encoder=False when constructing XGBClassifier object; and 2) Encode your labels (y) as integers starting with 0, i.e. 0, 1, 2, ..., [num_class - 1].\n",
      "  warnings.warn(label_encoder_deprecation_msg, UserWarning)\n"
     ]
    },
    {
     "name": "stdout",
     "output_type": "stream",
     "text": [
      "[20:02:39] WARNING: C:/Users/Administrator/workspace/xgboost-win64_release_1.4.0/src/learner.cc:1095: Starting in XGBoost 1.3.0, the default evaluation metric used with the objective 'multi:softprob' was changed from 'merror' to 'mlogloss'. Explicitly set eval_metric if you'd like to restore the old behavior.\n",
      "Confusion matrix for:  XGBClassifier\n"
     ]
    },
    {
     "data": {
      "text/plain": [
       "array([[2398,   61,    9],\n",
       "       [   7,  173,    0],\n",
       "       [  47,    0,   39]], dtype=int64)"
      ]
     },
     "metadata": {},
     "output_type": "display_data"
    },
    {
     "name": "stdout",
     "output_type": "stream",
     "text": [
      "Confusion matrix for:  CatBoostClassifier\n"
     ]
    },
    {
     "data": {
      "text/plain": [
       "array([[2393,   57,   18],\n",
       "       [  15,  165,    0],\n",
       "       [  40,    0,   46]], dtype=int64)"
      ]
     },
     "metadata": {},
     "output_type": "display_data"
    },
    {
     "data": {
      "text/html": [
       "<div>\n",
       "<style scoped>\n",
       "    .dataframe tbody tr th:only-of-type {\n",
       "        vertical-align: middle;\n",
       "    }\n",
       "\n",
       "    .dataframe tbody tr th {\n",
       "        vertical-align: top;\n",
       "    }\n",
       "\n",
       "    .dataframe thead th {\n",
       "        text-align: right;\n",
       "    }\n",
       "</style>\n",
       "<table border=\"1\" class=\"dataframe\">\n",
       "  <thead>\n",
       "    <tr style=\"text-align: right;\">\n",
       "      <th></th>\n",
       "      <th>Classifier</th>\n",
       "      <th>Accuracy</th>\n",
       "      <th>Precision</th>\n",
       "      <th>Recall</th>\n",
       "    </tr>\n",
       "    <tr>\n",
       "      <th>FScore</th>\n",
       "      <th></th>\n",
       "      <th></th>\n",
       "      <th></th>\n",
       "      <th></th>\n",
       "    </tr>\n",
       "  </thead>\n",
       "  <tbody>\n",
       "    <tr>\n",
       "      <th>0.8026</th>\n",
       "      <td>CatBoostClassifier</td>\n",
       "      <td>0.9525</td>\n",
       "      <td>0.8132</td>\n",
       "      <td>0.8071</td>\n",
       "    </tr>\n",
       "    <tr>\n",
       "      <th>0.7975</th>\n",
       "      <td>XGBClassifier</td>\n",
       "      <td>0.9546</td>\n",
       "      <td>0.8433</td>\n",
       "      <td>0.7954</td>\n",
       "    </tr>\n",
       "  </tbody>\n",
       "</table>\n",
       "</div>"
      ],
      "text/plain": [
       "                Classifier  Accuracy  Precision  Recall\n",
       "FScore                                                 \n",
       "0.8026  CatBoostClassifier    0.9525     0.8132  0.8071\n",
       "0.7975       XGBClassifier    0.9546     0.8433  0.7954"
      ]
     },
     "metadata": {},
     "output_type": "display_data"
    }
   ],
   "source": [
    "def classification(classifiers, X_train, X_test, y_train, y_test):\n",
    "    # Creo un dataframe per visualizzare i risultati calcolati\n",
    "  res = pd.DataFrame(columns=[\"Classifier\", \n",
    "                                \"Accuracy\", \n",
    "                                \"Precision\", \n",
    "                                \"Recall\", \n",
    "                                \"FScore\"])\n",
    "  for name, clf in classifiers.items():\n",
    "            clf.fit(X_train, y_train)\n",
    "            y_pred = clf.predict(X_test)\n",
    "            pr, rc, fs, sup = metrics.precision_recall_fscore_support(y_test, y_pred, average='macro')\n",
    "            res = res.append({\"Classifier\": name,\"Accuracy\": round(metrics.accuracy_score(y_test, y_pred), 4),\n",
    "                              \"Precision\": round(pr, 4), \"Recall\":round(rc, 4), \"FScore\":round(fs, 4)}, ignore_index=True)\n",
    "            print(\"Confusion matrix for: \", name)\n",
    "            display(confusion_matrix(y_test, y_pred))\n",
    "  res.set_index(\"FScore\", inplace=True)\n",
    "  res.sort_values(by=\"FScore\", ascending=False, inplace=True)   \n",
    "  return res\n",
    "\n",
    "display(classification(classifiers, X_train, X_test, y_train, y_test))"
   ]
  },
  {
   "cell_type": "code",
   "execution_count": 42,
   "metadata": {},
   "outputs": [
    {
     "data": {
      "text/plain": [
       "(9111, 9)"
      ]
     },
     "metadata": {},
     "output_type": "display_data"
    },
    {
     "data": {
      "text/plain": [
       "0    8261\n",
       "1     609\n",
       "2     241\n",
       "Name: diagnosis, dtype: int64"
      ]
     },
     "execution_count": 42,
     "metadata": {},
     "output_type": "execute_result"
    }
   ],
   "source": [
    "display(all_dataset.shape)\n",
    "all_dataset.diagnosis.value_counts()"
   ]
  },
  {
   "cell_type": "code",
   "execution_count": 43,
   "metadata": {},
   "outputs": [
    {
     "data": {
      "text/plain": [
       "age          0\n",
       "gender       0\n",
       "pregnant     0\n",
       "tsh_level    0\n",
       "t3           0\n",
       "tt4          0\n",
       "t4u          0\n",
       "fti          0\n",
       "diagnosis    0\n",
       "dtype: int64"
      ]
     },
     "metadata": {},
     "output_type": "display_data"
    }
   ],
   "source": [
    "data_alt = all_dataset.interpolate(method = 'spline', order = 3,limit_direction='both')\n",
    "display(data_alt.isna().sum())"
   ]
  },
  {
   "cell_type": "code",
   "execution_count": 44,
   "metadata": {},
   "outputs": [],
   "source": [
    "classifiers1 = {\n",
    "    \"XGBClassifier\" : XGBClassifier(learning_rate=0.01),\n",
    "    \"CatBoostClassifier\" : CatBoostClassifier(max_depth=4,verbose=0),\n",
    "    \"Nearest Neighbors\" : KNeighborsClassifier(4),\n",
    "    \"Decision Tree\" : DecisionTreeClassifier(class_weight = 'balanced'),\n",
    "    \"Random Forest\": RandomForestClassifier(class_weight = 'balanced',random_state = 1),\n",
    "    \"ExtraTrees\": ExtraTreesClassifier(class_weight = 'balanced',random_state = 1),\n",
    "    \"MLPClassifier\": MLPClassifier(hidden_layer_sizes=(256,128,64,32),activation=\"relu\",random_state=1)\n",
    "}"
   ]
  },
  {
   "cell_type": "code",
   "execution_count": 45,
   "metadata": {},
   "outputs": [
    {
     "data": {
      "text/plain": [
       "gender    0.064545\n",
       "t3        0.219407\n",
       "tt4       0.043935\n",
       "fti       0.113227\n",
       "Name: diagnosis, dtype: float64"
      ]
     },
     "metadata": {},
     "output_type": "display_data"
    }
   ],
   "source": [
    "corr_values = abs(data_alt[data_alt.columns[0:]].corr()['diagnosis'][:])\n",
    "corr_values = corr_values.drop('diagnosis')\n",
    "corr_values = corr_values[corr_values > 0.04]\n",
    "display(corr_values)"
   ]
  },
  {
   "cell_type": "code",
   "execution_count": 46,
   "metadata": {},
   "outputs": [
    {
     "name": "stderr",
     "output_type": "stream",
     "text": [
      "C:\\Users\\Asus\\Anaconda3\\envs\\py3.7-TF2.0\\lib\\site-packages\\xgboost\\sklearn.py:1146: UserWarning: The use of label encoder in XGBClassifier is deprecated and will be removed in a future release. To remove this warning, do the following: 1) Pass option use_label_encoder=False when constructing XGBClassifier object; and 2) Encode your labels (y) as integers starting with 0, i.e. 0, 1, 2, ..., [num_class - 1].\n",
      "  warnings.warn(label_encoder_deprecation_msg, UserWarning)\n"
     ]
    },
    {
     "name": "stdout",
     "output_type": "stream",
     "text": [
      "[20:03:53] WARNING: C:/Users/Administrator/workspace/xgboost-win64_release_1.4.0/src/learner.cc:1095: Starting in XGBoost 1.3.0, the default evaluation metric used with the objective 'multi:softprob' was changed from 'merror' to 'mlogloss'. Explicitly set eval_metric if you'd like to restore the old behavior.\n",
      "Confusion matrix for:  XGBClassifier\n"
     ]
    },
    {
     "data": {
      "text/plain": [
       "array([[2447,    9,   12],\n",
       "       [ 145,   35,    0],\n",
       "       [  55,    0,   31]], dtype=int64)"
      ]
     },
     "metadata": {},
     "output_type": "display_data"
    },
    {
     "name": "stdout",
     "output_type": "stream",
     "text": [
      "Confusion matrix for:  CatBoostClassifier\n"
     ]
    },
    {
     "data": {
      "text/plain": [
       "array([[2431,   21,   16],\n",
       "       [ 140,   40,    0],\n",
       "       [  47,    0,   39]], dtype=int64)"
      ]
     },
     "metadata": {},
     "output_type": "display_data"
    },
    {
     "name": "stdout",
     "output_type": "stream",
     "text": [
      "Confusion matrix for:  Nearest Neighbors\n"
     ]
    },
    {
     "data": {
      "text/plain": [
       "array([[2441,   18,    9],\n",
       "       [ 157,   23,    0],\n",
       "       [  74,    0,   12]], dtype=int64)"
      ]
     },
     "metadata": {},
     "output_type": "display_data"
    },
    {
     "name": "stdout",
     "output_type": "stream",
     "text": [
      "Confusion matrix for:  Decision Tree\n"
     ]
    },
    {
     "data": {
      "text/plain": [
       "array([[2316,  121,   31],\n",
       "       [ 123,   56,    1],\n",
       "       [  51,    0,   35]], dtype=int64)"
      ]
     },
     "metadata": {},
     "output_type": "display_data"
    },
    {
     "name": "stdout",
     "output_type": "stream",
     "text": [
      "Confusion matrix for:  Random Forest\n"
     ]
    },
    {
     "data": {
      "text/plain": [
       "array([[2433,   25,   10],\n",
       "       [ 138,   42,    0],\n",
       "       [  53,    0,   33]], dtype=int64)"
      ]
     },
     "metadata": {},
     "output_type": "display_data"
    },
    {
     "name": "stdout",
     "output_type": "stream",
     "text": [
      "Confusion matrix for:  ExtraTrees\n"
     ]
    },
    {
     "data": {
      "text/plain": [
       "array([[2417,   36,   15],\n",
       "       [ 141,   38,    1],\n",
       "       [  52,    0,   34]], dtype=int64)"
      ]
     },
     "metadata": {},
     "output_type": "display_data"
    },
    {
     "name": "stdout",
     "output_type": "stream",
     "text": [
      "Confusion matrix for:  MLPClassifier\n"
     ]
    },
    {
     "data": {
      "text/plain": [
       "array([[2435,   12,   21],\n",
       "       [ 155,   25,    0],\n",
       "       [  50,    0,   36]], dtype=int64)"
      ]
     },
     "metadata": {},
     "output_type": "display_data"
    },
    {
     "data": {
      "text/html": [
       "<div>\n",
       "<style scoped>\n",
       "    .dataframe tbody tr th:only-of-type {\n",
       "        vertical-align: middle;\n",
       "    }\n",
       "\n",
       "    .dataframe tbody tr th {\n",
       "        vertical-align: top;\n",
       "    }\n",
       "\n",
       "    .dataframe thead th {\n",
       "        text-align: right;\n",
       "    }\n",
       "</style>\n",
       "<table border=\"1\" class=\"dataframe\">\n",
       "  <thead>\n",
       "    <tr style=\"text-align: right;\">\n",
       "      <th></th>\n",
       "      <th>Classifier</th>\n",
       "      <th>Accuracy</th>\n",
       "      <th>Precision</th>\n",
       "      <th>Recall</th>\n",
       "    </tr>\n",
       "    <tr>\n",
       "      <th>FScore</th>\n",
       "      <th></th>\n",
       "      <th></th>\n",
       "      <th></th>\n",
       "      <th></th>\n",
       "    </tr>\n",
       "  </thead>\n",
       "  <tbody>\n",
       "    <tr>\n",
       "      <th>0.6137</th>\n",
       "      <td>CatBoostClassifier</td>\n",
       "      <td>0.9181</td>\n",
       "      <td>0.7645</td>\n",
       "      <td>0.5536</td>\n",
       "    </tr>\n",
       "    <tr>\n",
       "      <th>0.6024</th>\n",
       "      <td>Random Forest</td>\n",
       "      <td>0.9173</td>\n",
       "      <td>0.7738</td>\n",
       "      <td>0.5343</td>\n",
       "    </tr>\n",
       "    <tr>\n",
       "      <th>0.5837</th>\n",
       "      <td>ExtraTrees</td>\n",
       "      <td>0.9104</td>\n",
       "      <td>0.7065</td>\n",
       "      <td>0.5286</td>\n",
       "    </tr>\n",
       "    <tr>\n",
       "      <th>0.5833</th>\n",
       "      <td>XGBClassifier</td>\n",
       "      <td>0.9192</td>\n",
       "      <td>0.8136</td>\n",
       "      <td>0.5155</td>\n",
       "    </tr>\n",
       "    <tr>\n",
       "      <th>0.5685</th>\n",
       "      <td>Decision Tree</td>\n",
       "      <td>0.8804</td>\n",
       "      <td>0.5896</td>\n",
       "      <td>0.5522</td>\n",
       "    </tr>\n",
       "    <tr>\n",
       "      <th>0.5624</th>\n",
       "      <td>MLPClassifier</td>\n",
       "      <td>0.9129</td>\n",
       "      <td>0.7432</td>\n",
       "      <td>0.5147</td>\n",
       "    </tr>\n",
       "    <tr>\n",
       "      <th>0.4607</th>\n",
       "      <td>Nearest Neighbors</td>\n",
       "      <td>0.9056</td>\n",
       "      <td>0.6820</td>\n",
       "      <td>0.4188</td>\n",
       "    </tr>\n",
       "  </tbody>\n",
       "</table>\n",
       "</div>"
      ],
      "text/plain": [
       "                Classifier  Accuracy  Precision  Recall\n",
       "FScore                                                 \n",
       "0.6137  CatBoostClassifier    0.9181     0.7645  0.5536\n",
       "0.6024       Random Forest    0.9173     0.7738  0.5343\n",
       "0.5837          ExtraTrees    0.9104     0.7065  0.5286\n",
       "0.5833       XGBClassifier    0.9192     0.8136  0.5155\n",
       "0.5685       Decision Tree    0.8804     0.5896  0.5522\n",
       "0.5624       MLPClassifier    0.9129     0.7432  0.5147\n",
       "0.4607   Nearest Neighbors    0.9056     0.6820  0.4188"
      ]
     },
     "metadata": {},
     "output_type": "display_data"
    }
   ],
   "source": [
    "\n",
    "X_train_alt, X_test_alt, y_train_alt, y_test_alt = holdout(data_alt)\n",
    "\n",
    "display(classification(classifiers1,X_train_alt, X_test_alt, y_train_alt, y_test_alt))"
   ]
  },
  {
   "cell_type": "code",
   "execution_count": null,
   "metadata": {},
   "outputs": [],
   "source": []
  }
 ],
 "metadata": {
  "kernelspec": {
   "display_name": "Python (py3.7-TF2.0)",
   "language": "python",
   "name": "py3.7-tf2.0"
  },
  "language_info": {
   "codemirror_mode": {
    "name": "ipython",
    "version": 3
   },
   "file_extension": ".py",
   "mimetype": "text/x-python",
   "name": "python",
   "nbconvert_exporter": "python",
   "pygments_lexer": "ipython3",
   "version": "3.7.6"
  }
 },
 "nbformat": 4,
 "nbformat_minor": 4
}
